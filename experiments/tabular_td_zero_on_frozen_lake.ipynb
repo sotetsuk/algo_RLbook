{
 "cells": [
  {
   "cell_type": "code",
   "execution_count": 2,
   "metadata": {
    "collapsed": false
   },
   "outputs": [],
   "source": [
    "import gym\n",
    "import numpy as np\n",
    "import matplotlib.pyplot as plt\n",
    "\n",
    "from rl_algorithms.tabular_td_zero import TabularTdZero"
   ]
  },
  {
   "cell_type": "code",
   "execution_count": 24,
   "metadata": {
    "collapsed": false
   },
   "outputs": [
    {
     "name": "stderr",
     "output_type": "stream",
     "text": [
      "[2016-12-21 15:33:08,077] Making new env: FrozenLake-v0\n"
     ]
    }
   ],
   "source": [
    "# Set environment\n",
    "env = gym.make('FrozenLake-v0')\n",
    "NUM_TRIAL = 10000\n",
    "\n",
    "# Set algorithm\n",
    "tabular_td_zero = TabularTdZero(env.observation_space, env.action_space, discount_rate=0.99)\n",
    "\n",
    "# Estimate value function\n",
    "for n_trial in range(NUM_TRIAL):\n",
    "    env.reset()\n",
    "    observation = None\n",
    "    while True:\n",
    "        action = env.action_space.sample()  # uniformly randomly sample to estimate value function\n",
    "        next_observation, reward, done, _ = env.step(action)\n",
    "        if observation is not None:\n",
    "            tabular_td_zero.update(observation, reward, next_observation)\n",
    "        observation = next_observation\n",
    "        if done:\n",
    "            break"
   ]
  },
  {
   "cell_type": "code",
   "execution_count": 25,
   "metadata": {
    "collapsed": false
   },
   "outputs": [],
   "source": [
    "values = tabular_td_zero.values.reshape((4, 4))\n",
    "normalized_values = values / values.max()"
   ]
  },
  {
   "cell_type": "code",
   "execution_count": 26,
   "metadata": {
    "collapsed": false
   },
   "outputs": [
    {
     "name": "stdout",
     "output_type": "stream",
     "text": [
      "[[ 0.025  0.027  0.048  0.023]\n",
      " [ 0.029  0.000  0.099  0.000]\n",
      " [ 0.058  0.143  0.279  0.000]\n",
      " [ 0.000  0.262  1.000  0.000]]\n"
     ]
    }
   ],
   "source": [
    "np.set_printoptions(formatter={'float': '{: 0.3f}'.format})\n",
    "print(normalized_values)"
   ]
  },
  {
   "cell_type": "code",
   "execution_count": 27,
   "metadata": {
    "collapsed": false
   },
   "outputs": [
    {
     "data": {
      "text/plain": [
       "<matplotlib.figure.Figure at 0x1069343c8>"
      ]
     },
     "metadata": {},
     "output_type": "display_data"
    },
    {
     "data": {
      "image/png": "[encoded data removed]",
      "text/plain": [
       "<matplotlib.figure.Figure at 0x106942198>"
      ]
     },
     "metadata": {},
     "output_type": "display_data"
    }
   ],
   "source": [
    "plt.figure()\n",
    "plt.matshow(normalized_values, cmap=plt.cm.Greys_r)\n",
    "plt.show()"
   ]
  },
  {
   "cell_type": "code",
   "execution_count": null,
   "metadata": {
    "collapsed": true
   },
   "outputs": [],
   "source": []
  },
  {
   "cell_type": "code",
   "execution_count": null,
   "metadata": {
    "collapsed": true
   },
   "outputs": [],
   "source": []
  }
 ],
 "metadata": {
  "anaconda-cloud": {},
  "kernelspec": {
   "display_name": "Python 3",
   "language": "python",
   "name": "python3"
  },
  "language_info": {
   "codemirror_mode": {
    "name": "ipython",
    "version": 3
   },
   "file_extension": ".py",
   "mimetype": "text/x-python",
   "name": "python",
   "nbconvert_exporter": "python",
   "pygments_lexer": "ipython3",
   "version": "3.5.2"
  }
 },
 "nbformat": 4,
 "nbformat_minor": 0
}
